{
 "cells": [
  {
   "cell_type": "code",
   "execution_count": 2,
   "id": "c931940a",
   "metadata": {},
   "outputs": [],
   "source": [
    "import pandas as pd\n",
    "import numpy as np"
   ]
  },
  {
   "cell_type": "markdown",
   "id": "ef5e00ee",
   "metadata": {},
   "source": [
    "# view and import the data set"
   ]
  },
  {
   "cell_type": "code",
   "execution_count": 4,
   "id": "9c301dfa",
   "metadata": {},
   "outputs": [],
   "source": [
    "df=pd.read_csv(\"C:/Users/admin/Downloads/14.FDNY.csv\")"
   ]
  },
  {
   "cell_type": "code",
   "execution_count": 5,
   "id": "fb96a4e1",
   "metadata": {
    "scrolled": true
   },
   "outputs": [
    {
     "data": {
      "text/html": [
       "<div>\n",
       "<style scoped>\n",
       "    .dataframe tbody tr th:only-of-type {\n",
       "        vertical-align: middle;\n",
       "    }\n",
       "\n",
       "    .dataframe tbody tr th {\n",
       "        vertical-align: top;\n",
       "    }\n",
       "\n",
       "    .dataframe thead th {\n",
       "        text-align: right;\n",
       "    }\n",
       "</style>\n",
       "<table border=\"1\" class=\"dataframe\">\n",
       "  <thead>\n",
       "    <tr style=\"text-align: right;\">\n",
       "      <th></th>\n",
       "      <th>FacilityName</th>\n",
       "      <th>FacilityAddress</th>\n",
       "      <th>Borough</th>\n",
       "    </tr>\n",
       "  </thead>\n",
       "  <tbody>\n",
       "    <tr>\n",
       "      <th>0</th>\n",
       "      <td>FacilityName</td>\n",
       "      <td>FacilityAddress</td>\n",
       "      <td>Borough</td>\n",
       "    </tr>\n",
       "    <tr>\n",
       "      <th>1</th>\n",
       "      <td>Engine 4/Ladder 15</td>\n",
       "      <td>42 South Street</td>\n",
       "      <td>Manhattan</td>\n",
       "    </tr>\n",
       "    <tr>\n",
       "      <th>2</th>\n",
       "      <td>Engine 10/Ladder 10</td>\n",
       "      <td>124 Liberty Street</td>\n",
       "      <td>Manhattan</td>\n",
       "    </tr>\n",
       "    <tr>\n",
       "      <th>3</th>\n",
       "      <td>Engine 6</td>\n",
       "      <td>49 Beekman Street</td>\n",
       "      <td>Manhattan</td>\n",
       "    </tr>\n",
       "    <tr>\n",
       "      <th>4</th>\n",
       "      <td>Engine 7/Ladder 1/Battalion 1/Manhattan Boroug...</td>\n",
       "      <td>100-104 Duane Street</td>\n",
       "      <td>Manhattan</td>\n",
       "    </tr>\n",
       "    <tr>\n",
       "      <th>...</th>\n",
       "      <td>...</td>\n",
       "      <td>...</td>\n",
       "      <td>...</td>\n",
       "    </tr>\n",
       "    <tr>\n",
       "      <th>214</th>\n",
       "      <td>Engine 162/Ladder 82/Battalion 23</td>\n",
       "      <td>256 Nelson Avenue</td>\n",
       "      <td>Staten Island</td>\n",
       "    </tr>\n",
       "    <tr>\n",
       "      <th>215</th>\n",
       "      <td>Engine 167/Ladder 87</td>\n",
       "      <td>345 Annadale Road</td>\n",
       "      <td>Staten Island</td>\n",
       "    </tr>\n",
       "    <tr>\n",
       "      <th>216</th>\n",
       "      <td>Engine 164/Ladder 84</td>\n",
       "      <td>1560 Drumgoole Road West</td>\n",
       "      <td>Staten Island</td>\n",
       "    </tr>\n",
       "    <tr>\n",
       "      <th>217</th>\n",
       "      <td>Engine 168/EMS Station 23</td>\n",
       "      <td>1100 Rossville Avenue</td>\n",
       "      <td>Staten Island</td>\n",
       "    </tr>\n",
       "    <tr>\n",
       "      <th>218</th>\n",
       "      <td>Engine 151/Ladder 76</td>\n",
       "      <td>7219 Amboy Road</td>\n",
       "      <td>Staten Island</td>\n",
       "    </tr>\n",
       "  </tbody>\n",
       "</table>\n",
       "<p>219 rows × 3 columns</p>\n",
       "</div>"
      ],
      "text/plain": [
       "                                          FacilityName  \\\n",
       "0                                         FacilityName   \n",
       "1                                   Engine 4/Ladder 15   \n",
       "2                                  Engine 10/Ladder 10   \n",
       "3                                             Engine 6   \n",
       "4    Engine 7/Ladder 1/Battalion 1/Manhattan Boroug...   \n",
       "..                                                 ...   \n",
       "214                  Engine 162/Ladder 82/Battalion 23   \n",
       "215                               Engine 167/Ladder 87   \n",
       "216                               Engine 164/Ladder 84   \n",
       "217                          Engine 168/EMS Station 23   \n",
       "218                               Engine 151/Ladder 76   \n",
       "\n",
       "              FacilityAddress        Borough  \n",
       "0             FacilityAddress        Borough  \n",
       "1             42 South Street      Manhattan  \n",
       "2          124 Liberty Street      Manhattan  \n",
       "3           49 Beekman Street      Manhattan  \n",
       "4        100-104 Duane Street      Manhattan  \n",
       "..                        ...            ...  \n",
       "214         256 Nelson Avenue  Staten Island  \n",
       "215         345 Annadale Road  Staten Island  \n",
       "216  1560 Drumgoole Road West  Staten Island  \n",
       "217     1100 Rossville Avenue  Staten Island  \n",
       "218           7219 Amboy Road  Staten Island  \n",
       "\n",
       "[219 rows x 3 columns]"
      ]
     },
     "execution_count": 5,
     "metadata": {},
     "output_type": "execute_result"
    }
   ],
   "source": [
    "df"
   ]
  },
  {
   "cell_type": "markdown",
   "id": "f0551c87",
   "metadata": {},
   "source": [
    "# analysis the datset"
   ]
  },
  {
   "cell_type": "code",
   "execution_count": 7,
   "id": "affc6db4",
   "metadata": {},
   "outputs": [
    {
     "data": {
      "text/html": [
       "<div>\n",
       "<style scoped>\n",
       "    .dataframe tbody tr th:only-of-type {\n",
       "        vertical-align: middle;\n",
       "    }\n",
       "\n",
       "    .dataframe tbody tr th {\n",
       "        vertical-align: top;\n",
       "    }\n",
       "\n",
       "    .dataframe thead th {\n",
       "        text-align: right;\n",
       "    }\n",
       "</style>\n",
       "<table border=\"1\" class=\"dataframe\">\n",
       "  <thead>\n",
       "    <tr style=\"text-align: right;\">\n",
       "      <th></th>\n",
       "      <th>FacilityName</th>\n",
       "      <th>FacilityAddress</th>\n",
       "      <th>Borough</th>\n",
       "    </tr>\n",
       "  </thead>\n",
       "  <tbody>\n",
       "    <tr>\n",
       "      <th>0</th>\n",
       "      <td>FacilityName</td>\n",
       "      <td>FacilityAddress</td>\n",
       "      <td>Borough</td>\n",
       "    </tr>\n",
       "    <tr>\n",
       "      <th>1</th>\n",
       "      <td>Engine 4/Ladder 15</td>\n",
       "      <td>42 South Street</td>\n",
       "      <td>Manhattan</td>\n",
       "    </tr>\n",
       "    <tr>\n",
       "      <th>2</th>\n",
       "      <td>Engine 10/Ladder 10</td>\n",
       "      <td>124 Liberty Street</td>\n",
       "      <td>Manhattan</td>\n",
       "    </tr>\n",
       "    <tr>\n",
       "      <th>3</th>\n",
       "      <td>Engine 6</td>\n",
       "      <td>49 Beekman Street</td>\n",
       "      <td>Manhattan</td>\n",
       "    </tr>\n",
       "    <tr>\n",
       "      <th>4</th>\n",
       "      <td>Engine 7/Ladder 1/Battalion 1/Manhattan Boroug...</td>\n",
       "      <td>100-104 Duane Street</td>\n",
       "      <td>Manhattan</td>\n",
       "    </tr>\n",
       "  </tbody>\n",
       "</table>\n",
       "</div>"
      ],
      "text/plain": [
       "                                        FacilityName       FacilityAddress  \\\n",
       "0                                       FacilityName       FacilityAddress   \n",
       "1                                 Engine 4/Ladder 15       42 South Street   \n",
       "2                                Engine 10/Ladder 10    124 Liberty Street   \n",
       "3                                           Engine 6     49 Beekman Street   \n",
       "4  Engine 7/Ladder 1/Battalion 1/Manhattan Boroug...  100-104 Duane Street   \n",
       "\n",
       "     Borough  \n",
       "0    Borough  \n",
       "1  Manhattan  \n",
       "2  Manhattan  \n",
       "3  Manhattan  \n",
       "4  Manhattan  "
      ]
     },
     "execution_count": 7,
     "metadata": {},
     "output_type": "execute_result"
    }
   ],
   "source": [
    "df.head(5)"
   ]
  },
  {
   "cell_type": "code",
   "execution_count": 8,
   "id": "ed154118",
   "metadata": {},
   "outputs": [
    {
     "name": "stdout",
     "output_type": "stream",
     "text": [
      "<class 'pandas.core.frame.DataFrame'>\n",
      "RangeIndex: 219 entries, 0 to 218\n",
      "Data columns (total 3 columns):\n",
      " #   Column           Non-Null Count  Dtype \n",
      "---  ------           --------------  ----- \n",
      " 0   FacilityName     219 non-null    object\n",
      " 1   FacilityAddress  219 non-null    object\n",
      " 2   Borough          219 non-null    object\n",
      "dtypes: object(3)\n",
      "memory usage: 5.3+ KB\n"
     ]
    }
   ],
   "source": [
    "df.info()"
   ]
  },
  {
   "cell_type": "code",
   "execution_count": 16,
   "id": "ffc1fad5",
   "metadata": {},
   "outputs": [
    {
     "data": {
      "text/plain": [
       "Index(['FacilityName', 'FacilityAddress', 'Borough'], dtype='object')"
      ]
     },
     "execution_count": 16,
     "metadata": {},
     "output_type": "execute_result"
    }
   ],
   "source": [
    "df.columns"
   ]
  },
  {
   "cell_type": "code",
   "execution_count": 17,
   "id": "2524863f",
   "metadata": {},
   "outputs": [
    {
     "data": {
      "text/plain": [
       "RangeIndex(start=0, stop=219, step=1)"
      ]
     },
     "execution_count": 17,
     "metadata": {},
     "output_type": "execute_result"
    }
   ],
   "source": [
    "df.index"
   ]
  },
  {
   "cell_type": "code",
   "execution_count": 23,
   "id": "68fbc518",
   "metadata": {},
   "outputs": [
    {
     "name": "stdout",
     "output_type": "stream",
     "text": [
      "FacilityName       219\n",
      "FacilityAddress    219\n",
      "Borough            219\n",
      "dtype: int64\n"
     ]
    }
   ],
   "source": [
    "records =df.count()\n",
    "print(records)"
   ]
  },
  {
   "cell_type": "code",
   "execution_count": 29,
   "id": "fe50e7c0",
   "metadata": {},
   "outputs": [
    {
     "data": {
      "text/plain": [
       "FacilityName       object\n",
       "FacilityAddress    object\n",
       "Borough            object\n",
       "dtype: object"
      ]
     },
     "execution_count": 29,
     "metadata": {},
     "output_type": "execute_result"
    }
   ],
   "source": [
    "df.dtypes"
   ]
  },
  {
   "cell_type": "markdown",
   "id": "cfa0a92c",
   "metadata": {},
   "source": [
    "# find the total number of fire department facilites in new york"
   ]
  },
  {
   "cell_type": "code",
   "execution_count": 31,
   "id": "0106217d",
   "metadata": {},
   "outputs": [
    {
     "name": "stdout",
     "output_type": "stream",
     "text": [
      "Total number of fire department facilities in New York City: 219\n"
     ]
    }
   ],
   "source": [
    "import pandas as pd\n",
    "\n",
    "# Assuming you have a DataFrame named 'df' that contains your data\n",
    "total_fire_departments = df['FacilityName'].nunique()\n",
    "\n",
    "print(f'Total number of fire department facilities in New York City: {total_fire_departments}')\n"
   ]
  },
  {
   "cell_type": "markdown",
   "id": "a1e51df2",
   "metadata": {},
   "source": [
    "# find the total number of fire department facilites in borough"
   ]
  },
  {
   "cell_type": "code",
   "execution_count": 49,
   "id": "9452c564",
   "metadata": {},
   "outputs": [
    {
     "name": "stdout",
     "output_type": "stream",
     "text": [
      "               FacilityName  FacilityAddress\n",
      "Borough                                     \n",
      "Borough                   1                1\n",
      "Bronx                    34               34\n",
      "Brooklyn                 66               66\n",
      "Manhattan                48               48\n",
      "Queens                   50               50\n",
      "Staten Island            20               20\n"
     ]
    }
   ],
   "source": [
    "info=df.groupby('Borough').count()\n",
    "print(info)"
   ]
  },
  {
   "cell_type": "code",
   "execution_count": 62,
   "id": "3aafea50",
   "metadata": {},
   "outputs": [],
   "source": [
    "df = df.drop_duplicates()\n",
    "df = df.reset_index(drop=True)"
   ]
  },
  {
   "cell_type": "markdown",
   "id": "84647ccc",
   "metadata": {},
   "source": [
    "# find the total number of fire department facilites in manhattam"
   ]
  },
  {
   "cell_type": "code",
   "execution_count": 65,
   "id": "60271cd0",
   "metadata": {},
   "outputs": [
    {
     "name": "stdout",
     "output_type": "stream",
     "text": [
      "                                         FacilityName  \\\n",
      "1                                  Engine 4/Ladder 15   \n",
      "2                                 Engine 10/Ladder 10   \n",
      "3                                            Engine 6   \n",
      "4   Engine 7/Ladder 1/Battalion 1/Manhattan Boroug...   \n",
      "5                                            Ladder 8   \n",
      "6                                   Engine 9/Ladder 6   \n",
      "7                     Engine 15/Ladder 18/Battalion 4   \n",
      "8                                 Engine 28/Ladder 11   \n",
      "9                                            Engine 5   \n",
      "10                                          Engine 55   \n",
      "11                               Ladder 20/Division 1   \n",
      "12                     Engine 24/Ladder 5/Battalion 2   \n",
      "13                                 Engine 33/Ladder 9   \n",
      "14                               Ladder 3/Battalion 6   \n",
      "15                                           Squad 18   \n",
      "16                                Engine 34/Ladder 21   \n",
      "17                                          Engine 26   \n",
      "18                     Engine 3/Ladder 12/Battalion 7   \n",
      "19                                 Engine 1/Ladder 24   \n",
      "20                                          Engine 14   \n",
      "21                              Engine 16 / Ladder 7    \n",
      "22                                          Engine 21   \n",
      "23                     Engine 54/Ladder 4/Battalion 9   \n",
      "24                                          Engine 23   \n",
      "25                                           Rescue 1   \n",
      "26                                Engine 40/Ladder 35   \n",
      "27             Ladder 25/District Office 4/Division 3   \n",
      "28                                          Engine 74   \n",
      "29                                          Engine 65   \n",
      "30                  Engine 8 / Ladder 2 / Battalion 8   \n",
      "31                                Engine 39/Ladder 16   \n",
      "32                                          Engine 44   \n",
      "33                   Engine 22/Ladder 13/Battalion 10   \n",
      "34                                Engine 58/Ladder 26   \n",
      "35                                Engine 53/Ladder 43   \n",
      "36                                          Engine 91   \n",
      "37                                Engine 35/Ladder 14   \n",
      "38                   Engine 76/Ladder 22/Battalion 11   \n",
      "39                                          Engine 47   \n",
      "40                                Engine 59/Ladder 30   \n",
      "41                                Engine 37/Ladder 40   \n",
      "42                   Engine 69/Ladder 28/Battalion 16   \n",
      "43                                Engine 80/Ladder 23   \n",
      "44                                Engine 84/Ladder 34   \n",
      "45                                          Engine 67   \n",
      "46                   Engine 93/Ladder 45/Battalion 13   \n",
      "47                                Engine 95/Ladder 36   \n",
      "48                                           Marine 1   \n",
      "\n",
      "                         FacilityAddress    Borough  \n",
      "1                        42 South Street  Manhattan  \n",
      "2                     124 Liberty Street  Manhattan  \n",
      "3                      49 Beekman Street  Manhattan  \n",
      "4                   100-104 Duane Street  Manhattan  \n",
      "5                  14 North Moore Street  Manhattan  \n",
      "6                        75 Canal Street  Manhattan  \n",
      "7                         25 Pitt Street  Manhattan  \n",
      "8                    222 East 2nd Street  Manhattan  \n",
      "9                   340 East 14th Street  Manhattan  \n",
      "10                     363 Broome Street  Manhattan  \n",
      "11                  253 Lafayette Street  Manhattan  \n",
      "12                     227-29 6th Avenue  Manhattan  \n",
      "13                 42 Great Jones Street  Manhattan  \n",
      "14                  108 East 13th Street  Manhattan  \n",
      "15                  132 West 10th Street  Manhattan  \n",
      "16                  440 West 38th Street  Manhattan  \n",
      "17                  220 West 37th Street  Manhattan  \n",
      "18                  150 West 19th Street  Manhattan  \n",
      "19               142-46 West 31st Street  Manhattan  \n",
      "20                   14 East 18th Street  Manhattan  \n",
      "21                  234 East 29th Street  Manhattan  \n",
      "22                  238 East 40th Street  Manhattan  \n",
      "23                        782 8th Avenue  Manhattan  \n",
      "24                  215 West 58th Street  Manhattan  \n",
      "25                  530 West 43rd Street  Manhattan  \n",
      "26                131 Amsterdam Avenue    Manhattan  \n",
      "27              205-207 West 77th Street  Manhattan  \n",
      "28                 120 West 83rd Street   Manhattan  \n",
      "29                   33 West 43rd Street  Manhattan  \n",
      "30                  167 East 51st Street  Manhattan  \n",
      "31               157-59 East 67th Street  Manhattan  \n",
      "32                  221 East 75th Street  Manhattan  \n",
      "33                  159 East 85th Street  Manhattan  \n",
      "34                       1367 5th Avenue  Manhattan  \n",
      "35                   1836-46 3rd  Avenue  Manhattan  \n",
      "36                 242 East 111th Street  Manhattan  \n",
      "37                       2282 3rd Avenue  Manhattan  \n",
      "38              145-51 West 100th Street  Manhattan  \n",
      "39                 502 West 113th Street  Manhattan  \n",
      "40                 111 West 133rd Street  Manhattan  \n",
      "41                 415 West 125th Street  Manhattan  \n",
      "42                 248 West 143rd Street  Manhattan  \n",
      "43                 503 West 139th Street  Manhattan  \n",
      "44                 513 West 161st Street  Manhattan  \n",
      "45                 518 West 170th Street  Manhattan  \n",
      "46                 515 West 181st Street  Manhattan  \n",
      "47                   29 Vermilyea Avenue  Manhattan  \n",
      "48  Little West 12th Street/Hudson River  Manhattan  \n"
     ]
    }
   ],
   "source": [
    "info=df[df['Borough']=='Manhattan']\n",
    "print(info)"
   ]
  },
  {
   "cell_type": "code",
   "execution_count": null,
   "id": "80c2e040",
   "metadata": {},
   "outputs": [],
   "source": []
  }
 ],
 "metadata": {
  "kernelspec": {
   "display_name": "Python 3 (ipykernel)",
   "language": "python",
   "name": "python3"
  },
  "language_info": {
   "codemirror_mode": {
    "name": "ipython",
    "version": 3
   },
   "file_extension": ".py",
   "mimetype": "text/x-python",
   "name": "python",
   "nbconvert_exporter": "python",
   "pygments_lexer": "ipython3",
   "version": "3.11.4"
  }
 },
 "nbformat": 4,
 "nbformat_minor": 5
}
